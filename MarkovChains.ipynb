{
  "nbformat": 4,
  "nbformat_minor": 0,
  "metadata": {
    "colab": {
      "provenance": [],
      "authorship_tag": "ABX9TyOvqn/yLgEtKAONVBF1fuWN",
      "include_colab_link": true
    },
    "kernelspec": {
      "name": "python3",
      "display_name": "Python 3"
    },
    "language_info": {
      "name": "python"
    }
  },
  "cells": [
    {
      "cell_type": "markdown",
      "metadata": {
        "id": "view-in-github",
        "colab_type": "text"
      },
      "source": [
        "<a href=\"https://colab.research.google.com/github/cyberEnthusiasm/PRODIGY_GA_03/blob/main/MarkovChains.ipynb\" target=\"_parent\"><img src=\"https://colab.research.google.com/assets/colab-badge.svg\" alt=\"Open In Colab\"/></a>"
      ]
    },
    {
      "cell_type": "code",
      "execution_count": null,
      "metadata": {
        "id": "SVdCLsZ4_RmP",
        "outputId": "5a1080ad-178a-4ec2-d115-da9212b1bbbe",
        "colab": {
          "base_uri": "https://localhost:8080/"
        }
      },
      "outputs": [
        {
          "output_type": "stream",
          "name": "stdout",
          "text": [
            "  % Total    % Received % Xferd  Average Speed   Time    Time     Time  Current\n",
            "                                 Dload  Upload   Total   Spent    Left  Speed\n",
            "100  734k  100  734k    0     0  1434k      0 --:--:-- --:--:-- --:--:-- 1432k\n",
            "                           with a Preface by\n",
            "                           George Saintsbury\n",
            "                                  and\n",
            "                           Illustrations by\n",
            "                             Hugh Thomson\n",
            "\n",
            "                         [Illustration: 1894]\n",
            "\n",
            "                       Ruskin       156. Charing\n",
            "                       House.        Cross Road.\n"
          ]
        }
      ],
      "source": [
        "# Download Pride and Prejudice and cut off header.\n",
        "!curl https://www.gutenberg.org/files/1342/1342-0.txt | tail -n+32 > /content/pride-and-prejudice.txt\n",
        "\n",
        "# Preview file.\n",
        "!head -n 10 /content/pride-and-prejudice.txt"
      ]
    },
    {
      "cell_type": "code",
      "source": [
        "import collections\n",
        "import random\n",
        "import re\n",
        "import numpy as np"
      ],
      "metadata": {
        "id": "glWoMupzAMB1"
      },
      "execution_count": null,
      "outputs": []
    },
    {
      "cell_type": "code",
      "source": [
        "# Read text from file and tokenize.\n",
        "path = '/content/pride-and-prejudice.txt'\n",
        "with open(path) as f:\n",
        "  text = f.read()\n",
        "tokenized_text = [\n",
        "    word\n",
        "    for word in re.split('\\W+', text)\n",
        "    if word != ''\n",
        "]\n",
        "\n",
        "# Create graph.\n",
        "markov_graph = collections.defaultdict(lambda: collections.Counter())\n",
        "\n",
        "last_word = tokenized_text[0].lower()\n",
        "for word in tokenized_text[1:]:\n",
        "  word = word.lower()\n",
        "  markov_graph[last_word].update([word])\n",
        "  last_word = word\n",
        "\n",
        "# Preview graph.\n",
        "limit = 3\n",
        "for first_word in ('the', 'by', 'who'):\n",
        "  next_words = list(markov_graph[first_word].keys())[:limit]\n",
        "  for next_word in next_words:\n",
        "    print(first_word, next_word)"
      ],
      "metadata": {
        "id": "ElEmL4cFAS98",
        "outputId": "9b5856fc-79a1-4294-acf6-d2dce8be107f",
        "colab": {
          "base_uri": "https://localhost:8080/"
        }
      },
      "execution_count": null,
      "outputs": [
        {
          "output_type": "stream",
          "name": "stdout",
          "text": [
            "the case\n",
            "the not\n",
            "the objects\n",
            "by george\n",
            "by hugh\n",
            "by allowance\n",
            "who are\n",
            "who exalt\n",
            "who may\n"
          ]
        }
      ]
    },
    {
      "cell_type": "code",
      "source": [
        "def walk_graph(graph, distance=5, start_node=None):\n",
        "  \"\"\"Returns a list of words from a randomly weighted walk.\"\"\"\n",
        "  if distance <= 0:\n",
        "    return []\n",
        "\n",
        "  # If not given, pick a start node at random.\n",
        "  if not start_node:\n",
        "    start_node = random.choice(list(graph.keys()))\n",
        "\n",
        "\n",
        "  weights = np.array(\n",
        "      list(markov_graph[start_node].values()),\n",
        "      dtype=np.float64)\n",
        "  # Normalize word counts to sum to 1.\n",
        "  weights /= weights.sum()\n",
        "\n",
        "  # Pick a destination using weighted distribution.\n",
        "  choices = list(markov_graph[start_node].keys())\n",
        "  chosen_word = np.random.choice(choices, None, p=weights)\n",
        "\n",
        "  return [chosen_word] + walk_graph(\n",
        "      graph, distance=distance-1,\n",
        "      start_node=chosen_word)\n",
        "\n",
        "for i in range(10):\n",
        "  print(' '.join(walk_graph(\n",
        "      markov_graph, distance=12)), '\\n')"
      ],
      "metadata": {
        "id": "DzZDLvgPA0lI",
        "outputId": "fbada91c-8958-4020-d7ea-cb8c19366b8e",
        "colab": {
          "base_uri": "https://localhost:8080/"
        }
      },
      "execution_count": null,
      "outputs": [
        {
          "output_type": "stream",
          "name": "stdout",
          "text": [
            "all expectation she could forgive me may lose the arrival was acknowledged \n",
            "\n",
            "but the best master much better have others in speaking a powerful \n",
            "\n",
            "and even more to mr wickham had had happened in her understanding \n",
            "\n",
            "beneath him to anybody else they were both of my sister at \n",
            "\n",
            "bingley was followed this neighbourhood were interrupted hear as to it was \n",
            "\n",
            "by his understanding you said she had been said lydia were at \n",
            "\n",
            "thank you last summer the whole of being reconciled with you again \n",
            "\n",
            "all is nothing but they could she undoubtedly would be no reason \n",
            "\n",
            "the day but she is unacquainted with mrs reynolds respect and admire \n",
            "\n",
            "of his dear cried colonel forster to it would be untouched by \n",
            "\n"
          ]
        }
      ]
    }
  ]
}